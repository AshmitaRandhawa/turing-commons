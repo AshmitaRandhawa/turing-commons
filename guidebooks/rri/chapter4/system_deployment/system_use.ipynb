{
 "cells": [
  {
   "cell_type": "markdown",
   "metadata": {},
   "source": [
    "# System Use and Monitoring\n",
    "\n",
    "The Ancient Greek philosopher, Heraclitus believed that all things are in a constant state of change or *flux*—a doctrine made famous by the following statement:\n",
    "\n",
    "```{epigraph}\n",
    "You cannot step twice into the same rivers; for fresh waters are ever flowing in upon you.\n",
    "\n",
    "-- Heraclitus, [Fragment 12](https://en.wikisource.org/wiki/Fragments_of_Heraclitus)\n",
    "```\n",
    "\n",
    "Metaphysics aside, it is certainly true that our world is dynamic and that social categories change over time.\n",
    "As a result of this, and depending on the context of deployment, the performance of a model that aims to predict, classify, or recommend, is likely to degrade as the states it represents shift.\n",
    "This process of *model drift* can be said to occur when there is increasing variation between how representative the training dataset was at the time of development and how representative it is at later stages.\n",
    "There can be many causes of this drift.\n",
    "\n",
    "On the one hand, it may be because the statistical properties of some input variable have changed (i.e. there is a shift in the distribution) perhaps due to changing social norms (e.g. changing patterns of consumer spending, evolving linguistic norms that affect word embeddings).\n",
    "\n",
    "As such, mechanisms for monitoring the model's performance should be incorporated within the system to track model drift, and key thresholds should be determined at early stages of a project (e.g. during project planning or in initial impact assessment) and revised as necessary based on monitoring of the system's use.\n"
   ]
  },
  {
   "cell_type": "code",
   "execution_count": 1,
   "metadata": {},
   "outputs": [
    {
     "data": {
      "image/png": "[encoded data removed]",
      "text/plain": [
       "<Figure size 432x288 with 1 Axes>"
      ]
     },
     "metadata": {
      "needs_background": "light"
     },
     "output_type": "display_data"
    }
   ],
   "source": [
    "import numpy as np\n",
    "import matplotlib.pyplot as plt\n",
    "\n",
    "mu, sigma = 50, 15\n",
    "x = mu + sigma * np.random.randn(10000)\n",
    "\n",
    "# the histogram of the data\n",
    "n, bins, patches = plt.hist(x, 50, density=True, facecolor='g', alpha=0.75)\n",
    "\n",
    "plt.title('Distribution T=1')\n",
    "plt.xlim(0, 100)\n",
    "plt.ylim(0, 0.03)\n",
    "plt.grid(True)\n",
    "plt.show()"
   ]
  }
 ],
 "metadata": {
  "interpreter": {
   "hash": "95bf57223d6777ca36c5ccdebc3268b35e1d591d532d7fd9ca8b1cfbffd93ae9"
  },
  "kernelspec": {
   "display_name": "Python 3.9.6 64-bit ('turing-commons': conda)",
   "name": "python3"
  },
  "language_info": {
   "codemirror_mode": {
    "name": "ipython",
    "version": 3
   },
   "file_extension": ".py",
   "mimetype": "text/x-python",
   "name": "python",
   "nbconvert_exporter": "python",
   "pygments_lexer": "ipython3",
   "version": "3.9.6"
  },
  "orig_nbformat": 4
 },
 "nbformat": 4,
 "nbformat_minor": 2
}
