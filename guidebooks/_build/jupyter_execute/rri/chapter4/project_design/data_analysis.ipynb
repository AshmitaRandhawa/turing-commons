{
 "cells": [
  {
   "cell_type": "markdown",
   "metadata": {},
   "source": [
    "# Data Analysis\n",
    "This module will introduce and examine the stage of 'exploratory data analysis'. \n",
    "\n",
    "Rather than focusing on the statistical or technical techniques employed in modern data science though, we will approach this stage with a bias-aware perspective. \n",
    "However, we will make use of [Jupyter notebooks](https://jupyter.org)—a popular tool in data science—to aid our exploratory data analysis by visualising some data. \n",
    "You do not need to be familiar with either Python or Jupyter Notebooks if you just want to gain an understanding of how social, cognitive, and statistical biases interact and affect downstream stages in the research and innovation lifecycle. \n",
    "But the code is presented for those who wish to get more \"hands-on\".\n",
    "\n",
    "<!-- You can also edit this code in an interactive Jupyter notebook: \n",
    "[![Binder](https://mybinder.org/badge_logo.svg)](https://mybinder.org/v2/gh/chrisdburr/turing-commons/master?labpath=https%3A%2F%2Fgithub.com%2Fchrisdburr%2Fturing-commons%2Fblob%2Fmaster%2Fguidebooks%2Frri%2Fchapter4%2Fproject_design%2Fdata_analysis.ipynb) -->\n",
    "\n",
    "## What is Exploratory Data Analysis?\n",
    "\n",
    "Exploratory data analysis is a crucial stage in the project lifecycle. It is where a number of techniques are employed for the purpose of gaining a better understanding of the dataset and any relationships that exist between the relevant variables. Among other things, this could mean,\n",
    "\n",
    "- Describing the dataset and important variables\n",
    "- Cleaning the dataset\n",
    "- Identifying missing data and outliers, and deciding how to handle them\n",
    "- Provisional analysis of any relationships between variables\n",
    "- Uncovering possible limitations of the dataset (e.g. class imbalances) that could affect the project\n",
    "\n",
    "We will cover each of these sub-stages of EDA briefly, but to reiterate, our primary focus in this section is on the risks and challenges that stem from a variety of biases that can cause cascading issues that affect downstream tasks (e.g. model training).\n",
    "\n",
    "## COVID-19 Hospital Data\n",
    "\n",
    "For the purpose of this section we have created a synthetic dataset that contains X records for fictional patients who were triaged (and possibly admitted) to a single hospital for treatment of COVID-19. \n",
    "\n",
    "The dataset has been designed with this pedagogical task in mind. \n",
    "Therefore, although we relied upon plausible assumptions when developing our generative model, the data are not intended to be fully representative of actual patients. Our methodology for generating this dataset can be [found here](https://github.com/chrisdburr/turing-commons/blob/master/guidebooks/rri/chapter4/project_design/synthetic_data_generation.ipynb).\n",
    "\n",
    "### Importing Data\n",
    "\n",
    "First of all, we need to import our data and the software packages that we will use to describe, analyse, and visualise the data. \n",
    "The following lines of code achieve this by importing a series of software packages and then loading a csv file `covid_patients_syn_data.csv` into a DataFrame `df` using the `pd.read_csv` command from the Pandas package."
   ]
  },
  {
   "cell_type": "code",
   "execution_count": 1,
   "metadata": {},
   "outputs": [],
   "source": [
    "# The following lines import necessary packages and renames them \n",
    "\n",
    "import numpy as np\n",
    "import pandas as pd\n",
    "import matplotlib.pylab as plt\n",
    "import seaborn as sns\n",
    "\n",
    "# This line imports data from a csv file \n",
    "\n",
    "df = pd.read_csv('covid_patients_syn_data.csv')"
   ]
  },
  {
   "cell_type": "markdown",
   "metadata": {},
   "source": [
    "### Describing the Data\n",
    "\n",
    "Once we have imported our data, we will then want to identify what variables there are, what their typical values are, and also assess a variety of other summary statistics. \n",
    "We can use several commands to help us describe our dataset and get a quick overview.\n",
    "\n",
    "First, we can use the `shape` attribute to list the number of rows and columns in our dataset.\n",
    "The output (27308, 12) means that there are 27308 rows and 12 columns.\n"
   ]
  },
  {
   "cell_type": "code",
   "execution_count": 2,
   "metadata": {},
   "outputs": [
    {
     "data": {
      "text/plain": [
       "(27308, 12)"
      ]
     },
     "execution_count": 2,
     "metadata": {},
     "output_type": "execute_result"
    }
   ],
   "source": [
    "df.shape"
   ]
  },
  {
   "cell_type": "markdown",
   "metadata": {},
   "source": [
    "Second, we can use the `head` attribute to return the first 5 rows of our dataset, which can be useful if you want to see a small sample of values for each variable."
   ]
  },
  {
   "cell_type": "code",
   "execution_count": 3,
   "metadata": {},
   "outputs": [
    {
     "data": {
      "text/html": [
       "<div>\n",
       "<style scoped>\n",
       "    .dataframe tbody tr th:only-of-type {\n",
       "        vertical-align: middle;\n",
       "    }\n",
       "\n",
       "    .dataframe tbody tr th {\n",
       "        vertical-align: top;\n",
       "    }\n",
       "\n",
       "    .dataframe thead th {\n",
       "        text-align: right;\n",
       "    }\n",
       "</style>\n",
       "<table border=\"1\" class=\"dataframe\">\n",
       "  <thead>\n",
       "    <tr style=\"text-align: right;\">\n",
       "      <th></th>\n",
       "      <th>Unnamed: 0</th>\n",
       "      <th>nhs_id</th>\n",
       "      <th>site_id</th>\n",
       "      <th>age</th>\n",
       "      <th>sex</th>\n",
       "      <th>ethnicity</th>\n",
       "      <th>height</th>\n",
       "      <th>weight</th>\n",
       "      <th>admitted</th>\n",
       "      <th>admission_date</th>\n",
       "      <th>intrusive_ventilation</th>\n",
       "      <th>died</th>\n",
       "    </tr>\n",
       "  </thead>\n",
       "  <tbody>\n",
       "    <tr>\n",
       "      <th>0</th>\n",
       "      <td>1</td>\n",
       "      <td>b2d7345e</td>\n",
       "      <td>UHJ_43643</td>\n",
       "      <td>48</td>\n",
       "      <td>F</td>\n",
       "      <td>White</td>\n",
       "      <td>1.577876</td>\n",
       "      <td>33.388356</td>\n",
       "      <td>False</td>\n",
       "      <td>NaN</td>\n",
       "      <td>False</td>\n",
       "      <td>False</td>\n",
       "    </tr>\n",
       "    <tr>\n",
       "      <th>1</th>\n",
       "      <td>2</td>\n",
       "      <td>ead19985</td>\n",
       "      <td>UHJ_43643</td>\n",
       "      <td>80</td>\n",
       "      <td>F</td>\n",
       "      <td>White</td>\n",
       "      <td>1.640164</td>\n",
       "      <td>71.938813</td>\n",
       "      <td>False</td>\n",
       "      <td>NaN</td>\n",
       "      <td>False</td>\n",
       "      <td>False</td>\n",
       "    </tr>\n",
       "    <tr>\n",
       "      <th>2</th>\n",
       "      <td>3</td>\n",
       "      <td>669082d5</td>\n",
       "      <td>UHJ_43643</td>\n",
       "      <td>66</td>\n",
       "      <td>F</td>\n",
       "      <td>White</td>\n",
       "      <td>1.469061</td>\n",
       "      <td>31.679456</td>\n",
       "      <td>False</td>\n",
       "      <td>NaN</td>\n",
       "      <td>False</td>\n",
       "      <td>False</td>\n",
       "    </tr>\n",
       "    <tr>\n",
       "      <th>3</th>\n",
       "      <td>4</td>\n",
       "      <td>150f52d1</td>\n",
       "      <td>UHJ_43643</td>\n",
       "      <td>85</td>\n",
       "      <td>M</td>\n",
       "      <td>White</td>\n",
       "      <td>1.846977</td>\n",
       "      <td>77.164762</td>\n",
       "      <td>False</td>\n",
       "      <td>NaN</td>\n",
       "      <td>False</td>\n",
       "      <td>True</td>\n",
       "    </tr>\n",
       "    <tr>\n",
       "      <th>4</th>\n",
       "      <td>5</td>\n",
       "      <td>5feb9000</td>\n",
       "      <td>UHJ_43643</td>\n",
       "      <td>53</td>\n",
       "      <td>NaN</td>\n",
       "      <td>White</td>\n",
       "      <td>1.736242</td>\n",
       "      <td>73.458529</td>\n",
       "      <td>False</td>\n",
       "      <td>NaN</td>\n",
       "      <td>False</td>\n",
       "      <td>False</td>\n",
       "    </tr>\n",
       "  </tbody>\n",
       "</table>\n",
       "</div>"
      ],
      "text/plain": [
       "   Unnamed: 0    nhs_id    site_id  age  sex ethnicity    height     weight  \\\n",
       "0           1  b2d7345e  UHJ_43643   48    F     White  1.577876  33.388356   \n",
       "1           2  ead19985  UHJ_43643   80    F     White  1.640164  71.938813   \n",
       "2           3  669082d5  UHJ_43643   66    F     White  1.469061  31.679456   \n",
       "3           4  150f52d1  UHJ_43643   85    M     White  1.846977  77.164762   \n",
       "4           5  5feb9000  UHJ_43643   53  NaN     White  1.736242  73.458529   \n",
       "\n",
       "   admitted admission_date  intrusive_ventilation   died  \n",
       "0     False            NaN                  False  False  \n",
       "1     False            NaN                  False  False  \n",
       "2     False            NaN                  False  False  \n",
       "3     False            NaN                  False   True  \n",
       "4     False            NaN                  False  False  "
      ]
     },
     "execution_count": 3,
     "metadata": {},
     "output_type": "execute_result"
    }
   ],
   "source": [
    "df.head() "
   ]
  },
  {
   "cell_type": "markdown",
   "metadata": {},
   "source": [
    "Third, we can use the `columns` attribute to list all the names all of the columns in our dataset. \n",
    "This is helpful if you want to quickly see which variables you will have access to during your analysis."
   ]
  },
  {
   "cell_type": "code",
   "execution_count": 4,
   "metadata": {},
   "outputs": [
    {
     "data": {
      "text/plain": [
       "Index(['Unnamed: 0', 'nhs_id', 'site_id', 'age', 'sex', 'ethnicity', 'height',\n",
       "       'weight', 'admitted', 'admission_date', 'intrusive_ventilation',\n",
       "       'died'],\n",
       "      dtype='object')"
      ]
     },
     "execution_count": 4,
     "metadata": {},
     "output_type": "execute_result"
    }
   ],
   "source": [
    "df.columns"
   ]
  },
  {
   "cell_type": "markdown",
   "metadata": {},
   "source": [
    "Finally, if we want to see how many *unique* values there are for each of the variables, we can use the `nunique` attribute (i.e., number (n) of unique values).\n",
    "For example, in the ethnicity column there are 5 different values, which align with the formal list used by Public Health England in a report on the [Disparities in the risk and outcomes of COVID-19](https://assets.publishing.service.gov.uk/government/uploads/system/uploads/attachment_data/file/908434/Disparities_in_the_risk_and_outcomes_of_COVID_August_2020_update.pdf)—this report was used as the basis for generating our synthetic data."
   ]
  },
  {
   "cell_type": "code",
   "execution_count": 5,
   "metadata": {},
   "outputs": [
    {
     "data": {
      "text/plain": [
       "Unnamed: 0               27308\n",
       "nhs_id                   27307\n",
       "site_id                      1\n",
       "age                         70\n",
       "sex                          2\n",
       "ethnicity                    5\n",
       "height                   27308\n",
       "weight                   27308\n",
       "admitted                     2\n",
       "admission_date              67\n",
       "intrusive_ventilation        2\n",
       "died                         2\n",
       "dtype: int64"
      ]
     },
     "execution_count": 5,
     "metadata": {},
     "output_type": "execute_result"
    }
   ],
   "source": [
    "df.nunique(axis=0)"
   ]
  },
  {
   "cell_type": "markdown",
   "metadata": {},
   "source": [
    "These commands can be helpful for describing some basic aspects of our dataset. But what about more useful statistical information?\n",
    "For that we have the `describe` attribute, which returns the numeric values for `count`, `mean`, `standard deviation`, `min`, and `max`.\n",
    "The code after the brackets (`apply(lambda s: s.apply(lambda x: format(x, 'f'))` helps improve readability.)"
   ]
  },
  {
   "cell_type": "code",
   "execution_count": 6,
   "metadata": {},
   "outputs": [
    {
     "data": {
      "text/html": [
       "<div>\n",
       "<style scoped>\n",
       "    .dataframe tbody tr th:only-of-type {\n",
       "        vertical-align: middle;\n",
       "    }\n",
       "\n",
       "    .dataframe tbody tr th {\n",
       "        vertical-align: top;\n",
       "    }\n",
       "\n",
       "    .dataframe thead th {\n",
       "        text-align: right;\n",
       "    }\n",
       "</style>\n",
       "<table border=\"1\" class=\"dataframe\">\n",
       "  <thead>\n",
       "    <tr style=\"text-align: right;\">\n",
       "      <th></th>\n",
       "      <th>Unnamed: 0</th>\n",
       "      <th>age</th>\n",
       "      <th>height</th>\n",
       "      <th>weight</th>\n",
       "    </tr>\n",
       "  </thead>\n",
       "  <tbody>\n",
       "    <tr>\n",
       "      <th>count</th>\n",
       "      <td>27308.000000</td>\n",
       "      <td>27308.000000</td>\n",
       "      <td>27308.000000</td>\n",
       "      <td>27308.000000</td>\n",
       "    </tr>\n",
       "    <tr>\n",
       "      <th>mean</th>\n",
       "      <td>15013.859675</td>\n",
       "      <td>59.152995</td>\n",
       "      <td>1.699453</td>\n",
       "      <td>71.601769</td>\n",
       "    </tr>\n",
       "    <tr>\n",
       "      <th>std</th>\n",
       "      <td>8663.023499</td>\n",
       "      <td>20.311303</td>\n",
       "      <td>0.102201</td>\n",
       "      <td>17.835281</td>\n",
       "    </tr>\n",
       "    <tr>\n",
       "      <th>min</th>\n",
       "      <td>1.000000</td>\n",
       "      <td>20.000000</td>\n",
       "      <td>1.402760</td>\n",
       "      <td>-8.046726</td>\n",
       "    </tr>\n",
       "    <tr>\n",
       "      <th>25%</th>\n",
       "      <td>7502.750000</td>\n",
       "      <td>43.000000</td>\n",
       "      <td>1.623002</td>\n",
       "      <td>59.454984</td>\n",
       "    </tr>\n",
       "    <tr>\n",
       "      <th>50%</th>\n",
       "      <td>15046.500000</td>\n",
       "      <td>59.000000</td>\n",
       "      <td>1.690112</td>\n",
       "      <td>71.334741</td>\n",
       "    </tr>\n",
       "    <tr>\n",
       "      <th>75%</th>\n",
       "      <td>22500.250000</td>\n",
       "      <td>78.000000</td>\n",
       "      <td>1.773432</td>\n",
       "      <td>83.484033</td>\n",
       "    </tr>\n",
       "    <tr>\n",
       "      <th>max</th>\n",
       "      <td>29999.000000</td>\n",
       "      <td>89.000000</td>\n",
       "      <td>5.900000</td>\n",
       "      <td>155.031500</td>\n",
       "    </tr>\n",
       "  </tbody>\n",
       "</table>\n",
       "</div>"
      ],
      "text/plain": [
       "         Unnamed: 0           age        height        weight\n",
       "count  27308.000000  27308.000000  27308.000000  27308.000000\n",
       "mean   15013.859675     59.152995      1.699453     71.601769\n",
       "std     8663.023499     20.311303      0.102201     17.835281\n",
       "min        1.000000     20.000000      1.402760     -8.046726\n",
       "25%     7502.750000     43.000000      1.623002     59.454984\n",
       "50%    15046.500000     59.000000      1.690112     71.334741\n",
       "75%    22500.250000     78.000000      1.773432     83.484033\n",
       "max    29999.000000     89.000000      5.900000    155.031500"
      ]
     },
     "execution_count": 6,
     "metadata": {},
     "output_type": "execute_result"
    }
   ],
   "source": [
    "df.describe().apply(lambda s: s.apply(lambda x: format(x, 'f')))"
   ]
  },
  {
   "cell_type": "markdown",
   "metadata": {},
   "source": [
    "### Cleaning the Data\n",
    "\n",
    "#### Removing Unnecessary Variables\n",
    "\n",
    "Our dataset has been created for this specific task, so there isn't much cleaning that is required.\n",
    "Datasets that are downloaded from public repositories may not be so well structured, and will likely require tidying up. \n",
    "For instance, there may be redundant columns that are not needed, such as the `site_id` column for our dataset, which is the same for all values due to the data being collected from a single hospital site (`UHJ_43643`).\n",
    "These can be easily removed with the `drop` function."
   ]
  },
  {
   "cell_type": "code",
   "execution_count": 7,
   "metadata": {},
   "outputs": [
    {
     "data": {
      "text/html": [
       "<div>\n",
       "<style scoped>\n",
       "    .dataframe tbody tr th:only-of-type {\n",
       "        vertical-align: middle;\n",
       "    }\n",
       "\n",
       "    .dataframe tbody tr th {\n",
       "        vertical-align: top;\n",
       "    }\n",
       "\n",
       "    .dataframe thead th {\n",
       "        text-align: right;\n",
       "    }\n",
       "</style>\n",
       "<table border=\"1\" class=\"dataframe\">\n",
       "  <thead>\n",
       "    <tr style=\"text-align: right;\">\n",
       "      <th></th>\n",
       "      <th>Unnamed: 0</th>\n",
       "      <th>nhs_id</th>\n",
       "      <th>age</th>\n",
       "      <th>sex</th>\n",
       "      <th>ethnicity</th>\n",
       "      <th>height</th>\n",
       "      <th>weight</th>\n",
       "      <th>admitted</th>\n",
       "      <th>admission_date</th>\n",
       "      <th>intrusive_ventilation</th>\n",
       "      <th>died</th>\n",
       "    </tr>\n",
       "  </thead>\n",
       "  <tbody>\n",
       "    <tr>\n",
       "      <th>0</th>\n",
       "      <td>1</td>\n",
       "      <td>b2d7345e</td>\n",
       "      <td>48</td>\n",
       "      <td>F</td>\n",
       "      <td>White</td>\n",
       "      <td>1.577876</td>\n",
       "      <td>33.388356</td>\n",
       "      <td>False</td>\n",
       "      <td>NaN</td>\n",
       "      <td>False</td>\n",
       "      <td>False</td>\n",
       "    </tr>\n",
       "    <tr>\n",
       "      <th>1</th>\n",
       "      <td>2</td>\n",
       "      <td>ead19985</td>\n",
       "      <td>80</td>\n",
       "      <td>F</td>\n",
       "      <td>White</td>\n",
       "      <td>1.640164</td>\n",
       "      <td>71.938813</td>\n",
       "      <td>False</td>\n",
       "      <td>NaN</td>\n",
       "      <td>False</td>\n",
       "      <td>False</td>\n",
       "    </tr>\n",
       "    <tr>\n",
       "      <th>2</th>\n",
       "      <td>3</td>\n",
       "      <td>669082d5</td>\n",
       "      <td>66</td>\n",
       "      <td>F</td>\n",
       "      <td>White</td>\n",
       "      <td>1.469061</td>\n",
       "      <td>31.679456</td>\n",
       "      <td>False</td>\n",
       "      <td>NaN</td>\n",
       "      <td>False</td>\n",
       "      <td>False</td>\n",
       "    </tr>\n",
       "    <tr>\n",
       "      <th>3</th>\n",
       "      <td>4</td>\n",
       "      <td>150f52d1</td>\n",
       "      <td>85</td>\n",
       "      <td>M</td>\n",
       "      <td>White</td>\n",
       "      <td>1.846977</td>\n",
       "      <td>77.164762</td>\n",
       "      <td>False</td>\n",
       "      <td>NaN</td>\n",
       "      <td>False</td>\n",
       "      <td>True</td>\n",
       "    </tr>\n",
       "    <tr>\n",
       "      <th>4</th>\n",
       "      <td>5</td>\n",
       "      <td>5feb9000</td>\n",
       "      <td>53</td>\n",
       "      <td>NaN</td>\n",
       "      <td>White</td>\n",
       "      <td>1.736242</td>\n",
       "      <td>73.458529</td>\n",
       "      <td>False</td>\n",
       "      <td>NaN</td>\n",
       "      <td>False</td>\n",
       "      <td>False</td>\n",
       "    </tr>\n",
       "  </tbody>\n",
       "</table>\n",
       "</div>"
      ],
      "text/plain": [
       "   Unnamed: 0    nhs_id  age  sex ethnicity    height     weight  admitted  \\\n",
       "0           1  b2d7345e   48    F     White  1.577876  33.388356     False   \n",
       "1           2  ead19985   80    F     White  1.640164  71.938813     False   \n",
       "2           3  669082d5   66    F     White  1.469061  31.679456     False   \n",
       "3           4  150f52d1   85    M     White  1.846977  77.164762     False   \n",
       "4           5  5feb9000   53  NaN     White  1.736242  73.458529     False   \n",
       "\n",
       "  admission_date  intrusive_ventilation   died  \n",
       "0            NaN                  False  False  \n",
       "1            NaN                  False  False  \n",
       "2            NaN                  False  False  \n",
       "3            NaN                  False   True  \n",
       "4            NaN                  False  False  "
      ]
     },
     "execution_count": 7,
     "metadata": {},
     "output_type": "execute_result"
    }
   ],
   "source": [
    "df_cleaned = df.drop(['site_id'], axis=1)\n",
    "df_cleaned.head()"
   ]
  },
  {
   "cell_type": "markdown",
   "metadata": {},
   "source": [
    "#### Removing Outliers\n",
    "\n",
    "It is also possible that there may be some outliers that are probably the result of human mistakes in recording.  For example, someone may enter a height in feet and inches, such that we end up with a value of greater than 5 in that column.\n",
    "It's probably a safe assumption to assume that this is a mistake!"
   ]
  },
  {
   "cell_type": "code",
   "execution_count": 8,
   "metadata": {},
   "outputs": [
    {
     "data": {
      "text/plain": [
       "array([[<AxesSubplot:title={'center':'height'}>]], dtype=object)"
      ]
     },
     "execution_count": 8,
     "metadata": {},
     "output_type": "execute_result"
    },
    {
     "data": {
      "image/png": "[encoded data removed]",
      "text/plain": [
       "<Figure size 432x288 with 1 Axes>"
      ]
     },
     "metadata": {
      "filenames": {
       "image/png": "/Users/cburr/OneDrive - The Alan Turing Institute/projects/turing-commons/online-training/guidebooks/_build/jupyter_execute/rri/chapter4/project_design/data_analysis_15_1.png"
      },
      "needs_background": "light"
     },
     "output_type": "display_data"
    }
   ],
   "source": [
    "df_cleaned.hist(\"height\", log=True) "
   ]
  },
  {
   "cell_type": "markdown",
   "metadata": {},
   "source": [
    "We can see there is one entry with a height of between 5.5 and 6m!  We can manually remove this row, and any others with a height greater than 2.5m:"
   ]
  },
  {
   "cell_type": "code",
   "execution_count": 9,
   "metadata": {},
   "outputs": [
    {
     "data": {
      "text/plain": [
       "array([[<AxesSubplot:title={'center':'height'}>]], dtype=object)"
      ]
     },
     "execution_count": 9,
     "metadata": {},
     "output_type": "execute_result"
    },
    {
     "data": {
      "image/png": "[encoded data removed]",
      "text/plain": [
       "<Figure size 432x288 with 1 Axes>"
      ]
     },
     "metadata": {
      "filenames": {
       "image/png": "/Users/cburr/OneDrive - The Alan Turing Institute/projects/turing-commons/online-training/guidebooks/_build/jupyter_execute/rri/chapter4/project_design/data_analysis_17_1.png"
      },
      "needs_background": "light"
     },
     "output_type": "display_data"
    }
   ],
   "source": [
    "df_cleaned = df_cleaned[df_cleaned.height< 2.5]\n",
    "df_cleaned.hist(\"height\")"
   ]
  },
  {
   "cell_type": "markdown",
   "metadata": {},
   "source": [
    "#### Handling Missing Data\n",
    "\n",
    "One of the biggest challenges with cleaning datasets is choosing how to handle missing data. \n",
    "As you can see from the following line of code, there are 1326 rows with missing data in the \"sex\" column, which are represented in our datasets using the `NaN` (not-a-number) value.\n",
    "\n",
    "<!-- This section needs to have something about how simply removing rows with null values or trying to impute the likelihood of a M or F based on the other variables may exacerbate representation bias. -->\n"
   ]
  },
  {
   "cell_type": "code",
   "execution_count": 10,
   "metadata": {},
   "outputs": [
    {
     "data": {
      "text/plain": [
       "1326"
      ]
     },
     "execution_count": 10,
     "metadata": {},
     "output_type": "execute_result"
    }
   ],
   "source": [
    "len(df_cleaned[df_cleaned.sex.isnull()])"
   ]
  },
  {
   "cell_type": "markdown",
   "metadata": {},
   "source": [
    "The simplest thing that one can do is to remove rows containing missing data.  However, this could introduce bias.   \n",
    "\n",
    "The best case scenario is that the missingness occurs at random - in this case removing the rows would reduce our statistical precision (because we would have a smaller dataset), but would not bias the result.\n",
    "\n",
    "However, if the reason why the data is missing is correlated with some other variable, then simply removing them will mean that the remaining dataset is skewed in some way.   The best thing to do in this case could be to _impute_ the missing values, based on other variables in the same row.  However, this is often a complex process, and needs to be done with care!"
   ]
  },
  {
   "cell_type": "markdown",
   "metadata": {},
   "source": [
    "### Analysing the Data\n",
    "\n",
    "<!-- This section needs to add some useful illustrations of how Python can help you identify and understand correlations between variables in your dataset, and help document your exploratory data analysis method by using Jupyter Notebooks. -->"
   ]
  },
  {
   "cell_type": "markdown",
   "metadata": {},
   "source": [
    "For convenience, we may want to calculate some new variables based on those already in the dataset, that we think may be relevant.  For example, there have been reports that Body Mass Index (BMI) is a risk factor for Covid.  We can calculate this easily given the height and weight:"
   ]
  },
  {
   "cell_type": "code",
   "execution_count": 11,
   "metadata": {},
   "outputs": [
    {
     "data": {
      "text/html": [
       "<div>\n",
       "<style scoped>\n",
       "    .dataframe tbody tr th:only-of-type {\n",
       "        vertical-align: middle;\n",
       "    }\n",
       "\n",
       "    .dataframe tbody tr th {\n",
       "        vertical-align: top;\n",
       "    }\n",
       "\n",
       "    .dataframe thead th {\n",
       "        text-align: right;\n",
       "    }\n",
       "</style>\n",
       "<table border=\"1\" class=\"dataframe\">\n",
       "  <thead>\n",
       "    <tr style=\"text-align: right;\">\n",
       "      <th></th>\n",
       "      <th>Unnamed: 0</th>\n",
       "      <th>nhs_id</th>\n",
       "      <th>age</th>\n",
       "      <th>sex</th>\n",
       "      <th>ethnicity</th>\n",
       "      <th>height</th>\n",
       "      <th>weight</th>\n",
       "      <th>admitted</th>\n",
       "      <th>admission_date</th>\n",
       "      <th>intrusive_ventilation</th>\n",
       "      <th>died</th>\n",
       "      <th>BMI</th>\n",
       "    </tr>\n",
       "  </thead>\n",
       "  <tbody>\n",
       "    <tr>\n",
       "      <th>0</th>\n",
       "      <td>1</td>\n",
       "      <td>b2d7345e</td>\n",
       "      <td>48</td>\n",
       "      <td>F</td>\n",
       "      <td>White</td>\n",
       "      <td>1.577876</td>\n",
       "      <td>33.388356</td>\n",
       "      <td>False</td>\n",
       "      <td>NaN</td>\n",
       "      <td>False</td>\n",
       "      <td>False</td>\n",
       "      <td>13.410638</td>\n",
       "    </tr>\n",
       "    <tr>\n",
       "      <th>1</th>\n",
       "      <td>2</td>\n",
       "      <td>ead19985</td>\n",
       "      <td>80</td>\n",
       "      <td>F</td>\n",
       "      <td>White</td>\n",
       "      <td>1.640164</td>\n",
       "      <td>71.938813</td>\n",
       "      <td>False</td>\n",
       "      <td>NaN</td>\n",
       "      <td>False</td>\n",
       "      <td>False</td>\n",
       "      <td>26.741692</td>\n",
       "    </tr>\n",
       "    <tr>\n",
       "      <th>2</th>\n",
       "      <td>3</td>\n",
       "      <td>669082d5</td>\n",
       "      <td>66</td>\n",
       "      <td>F</td>\n",
       "      <td>White</td>\n",
       "      <td>1.469061</td>\n",
       "      <td>31.679456</td>\n",
       "      <td>False</td>\n",
       "      <td>NaN</td>\n",
       "      <td>False</td>\n",
       "      <td>False</td>\n",
       "      <td>14.679047</td>\n",
       "    </tr>\n",
       "    <tr>\n",
       "      <th>3</th>\n",
       "      <td>4</td>\n",
       "      <td>150f52d1</td>\n",
       "      <td>85</td>\n",
       "      <td>M</td>\n",
       "      <td>White</td>\n",
       "      <td>1.846977</td>\n",
       "      <td>77.164762</td>\n",
       "      <td>False</td>\n",
       "      <td>NaN</td>\n",
       "      <td>False</td>\n",
       "      <td>True</td>\n",
       "      <td>22.620183</td>\n",
       "    </tr>\n",
       "    <tr>\n",
       "      <th>4</th>\n",
       "      <td>5</td>\n",
       "      <td>5feb9000</td>\n",
       "      <td>53</td>\n",
       "      <td>NaN</td>\n",
       "      <td>White</td>\n",
       "      <td>1.736242</td>\n",
       "      <td>73.458529</td>\n",
       "      <td>False</td>\n",
       "      <td>NaN</td>\n",
       "      <td>False</td>\n",
       "      <td>False</td>\n",
       "      <td>24.368090</td>\n",
       "    </tr>\n",
       "    <tr>\n",
       "      <th>5</th>\n",
       "      <td>6</td>\n",
       "      <td>290b9d21</td>\n",
       "      <td>30</td>\n",
       "      <td>F</td>\n",
       "      <td>White</td>\n",
       "      <td>1.658339</td>\n",
       "      <td>65.757120</td>\n",
       "      <td>False</td>\n",
       "      <td>NaN</td>\n",
       "      <td>False</td>\n",
       "      <td>False</td>\n",
       "      <td>23.910900</td>\n",
       "    </tr>\n",
       "    <tr>\n",
       "      <th>6</th>\n",
       "      <td>7</td>\n",
       "      <td>f314ebb2</td>\n",
       "      <td>75</td>\n",
       "      <td>F</td>\n",
       "      <td>White</td>\n",
       "      <td>1.671430</td>\n",
       "      <td>77.650406</td>\n",
       "      <td>False</td>\n",
       "      <td>NaN</td>\n",
       "      <td>False</td>\n",
       "      <td>False</td>\n",
       "      <td>27.795043</td>\n",
       "    </tr>\n",
       "    <tr>\n",
       "      <th>7</th>\n",
       "      <td>8</td>\n",
       "      <td>eb1aee30</td>\n",
       "      <td>45</td>\n",
       "      <td>F</td>\n",
       "      <td>White</td>\n",
       "      <td>1.672083</td>\n",
       "      <td>84.986236</td>\n",
       "      <td>False</td>\n",
       "      <td>NaN</td>\n",
       "      <td>False</td>\n",
       "      <td>False</td>\n",
       "      <td>30.397146</td>\n",
       "    </tr>\n",
       "    <tr>\n",
       "      <th>8</th>\n",
       "      <td>9</td>\n",
       "      <td>d380252a</td>\n",
       "      <td>37</td>\n",
       "      <td>F</td>\n",
       "      <td>Other ethnic groups</td>\n",
       "      <td>1.620353</td>\n",
       "      <td>47.227723</td>\n",
       "      <td>False</td>\n",
       "      <td>NaN</td>\n",
       "      <td>False</td>\n",
       "      <td>False</td>\n",
       "      <td>17.987781</td>\n",
       "    </tr>\n",
       "    <tr>\n",
       "      <th>9</th>\n",
       "      <td>10</td>\n",
       "      <td>f805e493</td>\n",
       "      <td>83</td>\n",
       "      <td>F</td>\n",
       "      <td>White</td>\n",
       "      <td>1.659073</td>\n",
       "      <td>69.517318</td>\n",
       "      <td>False</td>\n",
       "      <td>NaN</td>\n",
       "      <td>False</td>\n",
       "      <td>False</td>\n",
       "      <td>25.255857</td>\n",
       "    </tr>\n",
       "    <tr>\n",
       "      <th>10</th>\n",
       "      <td>12</td>\n",
       "      <td>4b220be8</td>\n",
       "      <td>70</td>\n",
       "      <td>M</td>\n",
       "      <td>White</td>\n",
       "      <td>1.827594</td>\n",
       "      <td>74.105328</td>\n",
       "      <td>False</td>\n",
       "      <td>NaN</td>\n",
       "      <td>False</td>\n",
       "      <td>False</td>\n",
       "      <td>22.186559</td>\n",
       "    </tr>\n",
       "    <tr>\n",
       "      <th>11</th>\n",
       "      <td>13</td>\n",
       "      <td>33c4c37e</td>\n",
       "      <td>49</td>\n",
       "      <td>F</td>\n",
       "      <td>White</td>\n",
       "      <td>1.632662</td>\n",
       "      <td>64.152379</td>\n",
       "      <td>False</td>\n",
       "      <td>NaN</td>\n",
       "      <td>False</td>\n",
       "      <td>False</td>\n",
       "      <td>24.066897</td>\n",
       "    </tr>\n",
       "    <tr>\n",
       "      <th>12</th>\n",
       "      <td>14</td>\n",
       "      <td>50e76e88</td>\n",
       "      <td>49</td>\n",
       "      <td>F</td>\n",
       "      <td>White</td>\n",
       "      <td>1.631914</td>\n",
       "      <td>56.188252</td>\n",
       "      <td>False</td>\n",
       "      <td>NaN</td>\n",
       "      <td>False</td>\n",
       "      <td>False</td>\n",
       "      <td>21.098458</td>\n",
       "    </tr>\n",
       "    <tr>\n",
       "      <th>13</th>\n",
       "      <td>15</td>\n",
       "      <td>e60fa30b</td>\n",
       "      <td>74</td>\n",
       "      <td>F</td>\n",
       "      <td>White</td>\n",
       "      <td>1.626103</td>\n",
       "      <td>97.393239</td>\n",
       "      <td>False</td>\n",
       "      <td>NaN</td>\n",
       "      <td>False</td>\n",
       "      <td>False</td>\n",
       "      <td>36.832632</td>\n",
       "    </tr>\n",
       "    <tr>\n",
       "      <th>14</th>\n",
       "      <td>16</td>\n",
       "      <td>febe38ff</td>\n",
       "      <td>53</td>\n",
       "      <td>F</td>\n",
       "      <td>White</td>\n",
       "      <td>1.683077</td>\n",
       "      <td>74.678795</td>\n",
       "      <td>False</td>\n",
       "      <td>NaN</td>\n",
       "      <td>False</td>\n",
       "      <td>False</td>\n",
       "      <td>26.362666</td>\n",
       "    </tr>\n",
       "    <tr>\n",
       "      <th>15</th>\n",
       "      <td>17</td>\n",
       "      <td>d99bf7a6</td>\n",
       "      <td>40</td>\n",
       "      <td>F</td>\n",
       "      <td>White</td>\n",
       "      <td>1.613884</td>\n",
       "      <td>77.895890</td>\n",
       "      <td>False</td>\n",
       "      <td>NaN</td>\n",
       "      <td>False</td>\n",
       "      <td>False</td>\n",
       "      <td>29.906802</td>\n",
       "    </tr>\n",
       "    <tr>\n",
       "      <th>16</th>\n",
       "      <td>18</td>\n",
       "      <td>2315cbf6</td>\n",
       "      <td>89</td>\n",
       "      <td>M</td>\n",
       "      <td>White</td>\n",
       "      <td>1.817695</td>\n",
       "      <td>69.937249</td>\n",
       "      <td>True</td>\n",
       "      <td>2020-04-13</td>\n",
       "      <td>False</td>\n",
       "      <td>True</td>\n",
       "      <td>21.167344</td>\n",
       "    </tr>\n",
       "    <tr>\n",
       "      <th>17</th>\n",
       "      <td>19</td>\n",
       "      <td>f90d7923</td>\n",
       "      <td>62</td>\n",
       "      <td>F</td>\n",
       "      <td>White</td>\n",
       "      <td>1.713221</td>\n",
       "      <td>86.916660</td>\n",
       "      <td>False</td>\n",
       "      <td>NaN</td>\n",
       "      <td>False</td>\n",
       "      <td>False</td>\n",
       "      <td>29.612566</td>\n",
       "    </tr>\n",
       "    <tr>\n",
       "      <th>18</th>\n",
       "      <td>20</td>\n",
       "      <td>df98b181</td>\n",
       "      <td>51</td>\n",
       "      <td>F</td>\n",
       "      <td>Asian / Asian British</td>\n",
       "      <td>1.679056</td>\n",
       "      <td>65.257125</td>\n",
       "      <td>False</td>\n",
       "      <td>NaN</td>\n",
       "      <td>False</td>\n",
       "      <td>False</td>\n",
       "      <td>23.147152</td>\n",
       "    </tr>\n",
       "    <tr>\n",
       "      <th>19</th>\n",
       "      <td>21</td>\n",
       "      <td>cca6ce15</td>\n",
       "      <td>50</td>\n",
       "      <td>M</td>\n",
       "      <td>White</td>\n",
       "      <td>1.623643</td>\n",
       "      <td>56.300063</td>\n",
       "      <td>True</td>\n",
       "      <td>2020-05-20</td>\n",
       "      <td>True</td>\n",
       "      <td>False</td>\n",
       "      <td>21.356378</td>\n",
       "    </tr>\n",
       "  </tbody>\n",
       "</table>\n",
       "</div>"
      ],
      "text/plain": [
       "    Unnamed: 0    nhs_id  age  sex              ethnicity    height  \\\n",
       "0            1  b2d7345e   48    F                  White  1.577876   \n",
       "1            2  ead19985   80    F                  White  1.640164   \n",
       "2            3  669082d5   66    F                  White  1.469061   \n",
       "3            4  150f52d1   85    M                  White  1.846977   \n",
       "4            5  5feb9000   53  NaN                  White  1.736242   \n",
       "5            6  290b9d21   30    F                  White  1.658339   \n",
       "6            7  f314ebb2   75    F                  White  1.671430   \n",
       "7            8  eb1aee30   45    F                  White  1.672083   \n",
       "8            9  d380252a   37    F    Other ethnic groups  1.620353   \n",
       "9           10  f805e493   83    F                  White  1.659073   \n",
       "10          12  4b220be8   70    M                  White  1.827594   \n",
       "11          13  33c4c37e   49    F                  White  1.632662   \n",
       "12          14  50e76e88   49    F                  White  1.631914   \n",
       "13          15  e60fa30b   74    F                  White  1.626103   \n",
       "14          16  febe38ff   53    F                  White  1.683077   \n",
       "15          17  d99bf7a6   40    F                  White  1.613884   \n",
       "16          18  2315cbf6   89    M                  White  1.817695   \n",
       "17          19  f90d7923   62    F                  White  1.713221   \n",
       "18          20  df98b181   51    F  Asian / Asian British  1.679056   \n",
       "19          21  cca6ce15   50    M                  White  1.623643   \n",
       "\n",
       "       weight  admitted admission_date  intrusive_ventilation   died  \\\n",
       "0   33.388356     False            NaN                  False  False   \n",
       "1   71.938813     False            NaN                  False  False   \n",
       "2   31.679456     False            NaN                  False  False   \n",
       "3   77.164762     False            NaN                  False   True   \n",
       "4   73.458529     False            NaN                  False  False   \n",
       "5   65.757120     False            NaN                  False  False   \n",
       "6   77.650406     False            NaN                  False  False   \n",
       "7   84.986236     False            NaN                  False  False   \n",
       "8   47.227723     False            NaN                  False  False   \n",
       "9   69.517318     False            NaN                  False  False   \n",
       "10  74.105328     False            NaN                  False  False   \n",
       "11  64.152379     False            NaN                  False  False   \n",
       "12  56.188252     False            NaN                  False  False   \n",
       "13  97.393239     False            NaN                  False  False   \n",
       "14  74.678795     False            NaN                  False  False   \n",
       "15  77.895890     False            NaN                  False  False   \n",
       "16  69.937249      True     2020-04-13                  False   True   \n",
       "17  86.916660     False            NaN                  False  False   \n",
       "18  65.257125     False            NaN                  False  False   \n",
       "19  56.300063      True     2020-05-20                   True  False   \n",
       "\n",
       "          BMI  \n",
       "0   13.410638  \n",
       "1   26.741692  \n",
       "2   14.679047  \n",
       "3   22.620183  \n",
       "4   24.368090  \n",
       "5   23.910900  \n",
       "6   27.795043  \n",
       "7   30.397146  \n",
       "8   17.987781  \n",
       "9   25.255857  \n",
       "10  22.186559  \n",
       "11  24.066897  \n",
       "12  21.098458  \n",
       "13  36.832632  \n",
       "14  26.362666  \n",
       "15  29.906802  \n",
       "16  21.167344  \n",
       "17  29.612566  \n",
       "18  23.147152  \n",
       "19  21.356378  "
      ]
     },
     "execution_count": 11,
     "metadata": {},
     "output_type": "execute_result"
    }
   ],
   "source": [
    "df_cleaned[\"BMI\"] = df_cleaned[\"weight\"]/pow(df_cleaned[\"height\"],2)\n",
    "df_cleaned.head(20)"
   ]
  },
  {
   "cell_type": "markdown",
   "metadata": {},
   "source": [
    "A quick way to get an idea of what variables are correlated with one another is to plot a \"heatmap\".  Higher numbers in this plot represent stronger correlations (note the diagonal line of red squares all containing \"1\" - every variable is 100% correlated with itself!)"
   ]
  },
  {
   "cell_type": "code",
   "execution_count": 12,
   "metadata": {},
   "outputs": [
    {
     "data": {
      "text/plain": [
       "(5.5, -0.5)"
      ]
     },
     "execution_count": 12,
     "metadata": {},
     "output_type": "execute_result"
    },
    {
     "data": {
      "image/png": "[encoded data removed]",
      "text/plain": [
       "<Figure size 432x288 with 2 Axes>"
      ]
     },
     "metadata": {
      "filenames": {
       "image/png": "/Users/cburr/OneDrive - The Alan Turing Institute/projects/turing-commons/online-training/guidebooks/_build/jupyter_execute/rri/chapter4/project_design/data_analysis_25_1.png"
      },
      "needs_background": "light"
     },
     "output_type": "display_data"
    }
   ],
   "source": [
    "# The following lines return a correlation matrix, for the cleaned dataframe, using the seaborn package\n",
    "corr = df_cleaned[[\"age\",\"BMI\",\"admitted\",\"intrusive_ventilation\",\"died\"]].corr()# plot the heatmap\n",
    "\n",
    "ax = sns.heatmap(corr, xticklabels=corr.columns, yticklabels=corr.columns, annot=True, cmap=sns.diverging_palette(220, 20, as_cmap=True))\n",
    "bottom, top = ax.get_ylim()\n",
    "ax.set_ylim(bottom + 0.5, top - 0.5)"
   ]
  },
  {
   "cell_type": "markdown",
   "metadata": {},
   "source": [
    "Note that this heatmap only works for numeric (or boolean) variables.  For categorical variables such as \"ethnicity\", we will use other methods to visualise the data."
   ]
  },
  {
   "cell_type": "markdown",
   "metadata": {},
   "source": [
    "### Visualising the Data\n",
    "\n",
    "<!-- This section should show how including people who died in care homes would affect the correlation between age and one or more of the outcomes. This will be used to help support the missing data narrative. -->"
   ]
  },
  {
   "cell_type": "markdown",
   "metadata": {},
   "source": [
    "As we saw from the heatmap above, the age of the patient is perhaps the most important variable with regard to outcomes such as hospital admission or death.  We will therefore separate the data into different \"bins\" of age, to see if we can observe other dependencies.\n",
    "\n",
    "This is a bit tricky to do in pandas, we need to define the bin boundaries, and then \"group by\" the other variable that we're interested in, summing the numbers of patients and deaths over each category."
   ]
  },
  {
   "cell_type": "code",
   "execution_count": 13,
   "metadata": {},
   "outputs": [
    {
     "data": {
      "text/html": [
       "<div>\n",
       "<style scoped>\n",
       "    .dataframe tbody tr th:only-of-type {\n",
       "        vertical-align: middle;\n",
       "    }\n",
       "\n",
       "    .dataframe tbody tr th {\n",
       "        vertical-align: top;\n",
       "    }\n",
       "\n",
       "    .dataframe thead th {\n",
       "        text-align: right;\n",
       "    }\n",
       "</style>\n",
       "<table border=\"1\" class=\"dataframe\">\n",
       "  <thead>\n",
       "    <tr style=\"text-align: right;\">\n",
       "      <th></th>\n",
       "      <th>ethnicity</th>\n",
       "      <th>age</th>\n",
       "      <th>admitted</th>\n",
       "      <th>intrusive_ventilation</th>\n",
       "      <th>died</th>\n",
       "      <th>counter</th>\n",
       "      <th>prob_died</th>\n",
       "      <th>prob_died_std</th>\n",
       "    </tr>\n",
       "  </thead>\n",
       "  <tbody>\n",
       "    <tr>\n",
       "      <th>0</th>\n",
       "      <td>Asian / Asian British</td>\n",
       "      <td>(20, 30]</td>\n",
       "      <td>24</td>\n",
       "      <td>14</td>\n",
       "      <td>1</td>\n",
       "      <td>211.0</td>\n",
       "      <td>0.004739</td>\n",
       "      <td>0.004728</td>\n",
       "    </tr>\n",
       "    <tr>\n",
       "      <th>1</th>\n",
       "      <td>Asian / Asian British</td>\n",
       "      <td>(30, 40]</td>\n",
       "      <td>14</td>\n",
       "      <td>10</td>\n",
       "      <td>0</td>\n",
       "      <td>280.0</td>\n",
       "      <td>0.000000</td>\n",
       "      <td>0.000000</td>\n",
       "    </tr>\n",
       "    <tr>\n",
       "      <th>2</th>\n",
       "      <td>Asian / Asian British</td>\n",
       "      <td>(40, 50]</td>\n",
       "      <td>38</td>\n",
       "      <td>18</td>\n",
       "      <td>1</td>\n",
       "      <td>347.0</td>\n",
       "      <td>0.002882</td>\n",
       "      <td>0.002878</td>\n",
       "    </tr>\n",
       "    <tr>\n",
       "      <th>3</th>\n",
       "      <td>Asian / Asian British</td>\n",
       "      <td>(50, 60]</td>\n",
       "      <td>33</td>\n",
       "      <td>14</td>\n",
       "      <td>7</td>\n",
       "      <td>366.0</td>\n",
       "      <td>0.019126</td>\n",
       "      <td>0.007159</td>\n",
       "    </tr>\n",
       "    <tr>\n",
       "      <th>4</th>\n",
       "      <td>Asian / Asian British</td>\n",
       "      <td>(60, 70]</td>\n",
       "      <td>31</td>\n",
       "      <td>11</td>\n",
       "      <td>18</td>\n",
       "      <td>314.0</td>\n",
       "      <td>0.057325</td>\n",
       "      <td>0.013119</td>\n",
       "    </tr>\n",
       "    <tr>\n",
       "      <th>5</th>\n",
       "      <td>Asian / Asian British</td>\n",
       "      <td>(70, 80]</td>\n",
       "      <td>51</td>\n",
       "      <td>24</td>\n",
       "      <td>65</td>\n",
       "      <td>328.0</td>\n",
       "      <td>0.198171</td>\n",
       "      <td>0.022010</td>\n",
       "    </tr>\n",
       "    <tr>\n",
       "      <th>6</th>\n",
       "      <td>Asian / Asian British</td>\n",
       "      <td>(80, 90]</td>\n",
       "      <td>60</td>\n",
       "      <td>30</td>\n",
       "      <td>221</td>\n",
       "      <td>549.0</td>\n",
       "      <td>0.402550</td>\n",
       "      <td>0.020930</td>\n",
       "    </tr>\n",
       "    <tr>\n",
       "      <th>7</th>\n",
       "      <td>Black / Black British</td>\n",
       "      <td>(20, 30]</td>\n",
       "      <td>11</td>\n",
       "      <td>5</td>\n",
       "      <td>0</td>\n",
       "      <td>140.0</td>\n",
       "      <td>0.000000</td>\n",
       "      <td>0.000000</td>\n",
       "    </tr>\n",
       "    <tr>\n",
       "      <th>8</th>\n",
       "      <td>Black / Black British</td>\n",
       "      <td>(30, 40]</td>\n",
       "      <td>9</td>\n",
       "      <td>6</td>\n",
       "      <td>1</td>\n",
       "      <td>180.0</td>\n",
       "      <td>0.005556</td>\n",
       "      <td>0.005540</td>\n",
       "    </tr>\n",
       "    <tr>\n",
       "      <th>9</th>\n",
       "      <td>Black / Black British</td>\n",
       "      <td>(40, 50]</td>\n",
       "      <td>10</td>\n",
       "      <td>5</td>\n",
       "      <td>0</td>\n",
       "      <td>178.0</td>\n",
       "      <td>0.000000</td>\n",
       "      <td>0.000000</td>\n",
       "    </tr>\n",
       "  </tbody>\n",
       "</table>\n",
       "</div>"
      ],
      "text/plain": [
       "               ethnicity       age  admitted  intrusive_ventilation  died  \\\n",
       "0  Asian / Asian British  (20, 30]        24                     14     1   \n",
       "1  Asian / Asian British  (30, 40]        14                     10     0   \n",
       "2  Asian / Asian British  (40, 50]        38                     18     1   \n",
       "3  Asian / Asian British  (50, 60]        33                     14     7   \n",
       "4  Asian / Asian British  (60, 70]        31                     11    18   \n",
       "5  Asian / Asian British  (70, 80]        51                     24    65   \n",
       "6  Asian / Asian British  (80, 90]        60                     30   221   \n",
       "7  Black / Black British  (20, 30]        11                      5     0   \n",
       "8  Black / Black British  (30, 40]         9                      6     1   \n",
       "9  Black / Black British  (40, 50]        10                      5     0   \n",
       "\n",
       "   counter  prob_died  prob_died_std  \n",
       "0    211.0   0.004739       0.004728  \n",
       "1    280.0   0.000000       0.000000  \n",
       "2    347.0   0.002882       0.002878  \n",
       "3    366.0   0.019126       0.007159  \n",
       "4    314.0   0.057325       0.013119  \n",
       "5    328.0   0.198171       0.022010  \n",
       "6    549.0   0.402550       0.020930  \n",
       "7    140.0   0.000000       0.000000  \n",
       "8    180.0   0.005556       0.005540  \n",
       "9    178.0   0.000000       0.000000  "
      ]
     },
     "execution_count": 13,
     "metadata": {},
     "output_type": "execute_result"
    }
   ],
   "source": [
    "df_plot = df_cleaned.copy(deep=True)\n",
    "# add a 'counter' variable, which is just 1 for each row, so that when we sum over categories, we know how many rows we \n",
    "# originally had in that category\n",
    "df_plot[\"counter\"] = 1.0\n",
    "# now we want to put the data in bins of age-range and ethnicity, and sum the numbers of\n",
    "# patients (total, admitted, ventilated, died) over these bins\n",
    "bins = np.arange(20,100,10)\n",
    "df_plot = df_plot.groupby([\"ethnicity\",pd.cut(df_plot[\"age\"], bins)]).sum()\n",
    "# calculate probability that patient died by dividing num(died) by the total in each bin\n",
    "df_plot[\"prob_died\"] = df_plot[\"died\"]/df_plot[\"counter\"] \n",
    "# we can also calculate the uncertainty on this probability, using binomial errors\n",
    "df_plot[\"prob_died_std\"] = np.sqrt(df_plot[\"prob_died\"]*(1-df_plot[\"prob_died\"])/df_plot[\"counter\"])\n",
    "# at this point, we have a redundant column \"age\" which is the sum of all the ages in the bin - drop this,\n",
    "# so that we can then promote the index age-range to a column (which will also be called \"age\")\n",
    "df_plot = df_plot.drop([\"age\"], axis=1)\n",
    "# we can also drop the other columns that no longer make sense since we have summed over\n",
    "# all the patients in the age range\n",
    "df_plot = df_plot.drop([\"Unnamed: 0\",\"height\",\"weight\", \"BMI\"], axis=1)\n",
    "df_plot = df_plot.reset_index()\n",
    "# convert this new \"age\" column to a string\n",
    "df_plot[\"age\"] = df_plot[\"age\"].astype(str)\n",
    "df_plot.head(10)\n"
   ]
  },
  {
   "cell_type": "code",
   "execution_count": 14,
   "metadata": {},
   "outputs": [
    {
     "data": {
      "text/plain": [
       "<AxesSubplot:xlabel='age', ylabel='prob_died'>"
      ]
     },
     "execution_count": 14,
     "metadata": {},
     "output_type": "execute_result"
    },
    {
     "data": {
      "image/png": "[encoded data removed]",
      "text/plain": [
       "<Figure size 648x360 with 1 Axes>"
      ]
     },
     "metadata": {
      "filenames": {
       "image/png": "/Users/cburr/OneDrive - The Alan Turing Institute/projects/turing-commons/online-training/guidebooks/_build/jupyter_execute/rri/chapter4/project_design/data_analysis_30_1.png"
      },
      "needs_background": "light"
     },
     "output_type": "display_data"
    }
   ],
   "source": [
    "fig, ax = plt.subplots(figsize=(9,5))\n",
    "sns.pointplot(data=df_plot, x=\"age\", y=\"prob_died\", hue=\"ethnicity\")"
   ]
  },
  {
   "cell_type": "markdown",
   "metadata": {},
   "source": [
    "Ideally we would plot error bars here so we could see the uncertainties on the probabilities, but it does seem to be a consistent pattern that \"White\" patients had a lower probability of death across a range of ages, while for older patients, the \"Asian / Asian British\" ethnicity had a higher probability of dying."
   ]
  },
  {
   "cell_type": "markdown",
   "metadata": {},
   "source": [
    "### Dependency on other factors\n",
    "\n",
    "It is generally very difficult to quantify correlations in situations like this where multiple factors might affect the probability of a death, especially when these factors might be correlated with one another.   \n",
    "We can try though to see whether we can see a dependency on sex, and/or BMI.  Since we know that the strongest dependency is on age, we will just choose a limited age range to make this plot - in order to have a reasonable number of patients we'll look at the rows with age between 70 and 80."
   ]
  },
  {
   "cell_type": "code",
   "execution_count": 15,
   "metadata": {},
   "outputs": [
    {
     "data": {
      "text/html": [
       "<div>\n",
       "<style scoped>\n",
       "    .dataframe tbody tr th:only-of-type {\n",
       "        vertical-align: middle;\n",
       "    }\n",
       "\n",
       "    .dataframe tbody tr th {\n",
       "        vertical-align: top;\n",
       "    }\n",
       "\n",
       "    .dataframe thead th {\n",
       "        text-align: right;\n",
       "    }\n",
       "</style>\n",
       "<table border=\"1\" class=\"dataframe\">\n",
       "  <thead>\n",
       "    <tr style=\"text-align: right;\">\n",
       "      <th></th>\n",
       "      <th>sex</th>\n",
       "      <th>BMI</th>\n",
       "      <th>admitted</th>\n",
       "      <th>intrusive_ventilation</th>\n",
       "      <th>died</th>\n",
       "      <th>counter</th>\n",
       "      <th>prob_died</th>\n",
       "      <th>prob_died_std</th>\n",
       "    </tr>\n",
       "  </thead>\n",
       "  <tbody>\n",
       "    <tr>\n",
       "      <th>0</th>\n",
       "      <td>F</td>\n",
       "      <td>(10, 16]</td>\n",
       "      <td>17</td>\n",
       "      <td>4</td>\n",
       "      <td>7</td>\n",
       "      <td>93.0</td>\n",
       "      <td>0.075269</td>\n",
       "      <td>0.027357</td>\n",
       "    </tr>\n",
       "    <tr>\n",
       "      <th>1</th>\n",
       "      <td>F</td>\n",
       "      <td>(16, 22]</td>\n",
       "      <td>32</td>\n",
       "      <td>12</td>\n",
       "      <td>20</td>\n",
       "      <td>298.0</td>\n",
       "      <td>0.067114</td>\n",
       "      <td>0.014495</td>\n",
       "    </tr>\n",
       "    <tr>\n",
       "      <th>2</th>\n",
       "      <td>F</td>\n",
       "      <td>(22, 28]</td>\n",
       "      <td>47</td>\n",
       "      <td>11</td>\n",
       "      <td>39</td>\n",
       "      <td>448.0</td>\n",
       "      <td>0.087054</td>\n",
       "      <td>0.013319</td>\n",
       "    </tr>\n",
       "    <tr>\n",
       "      <th>3</th>\n",
       "      <td>F</td>\n",
       "      <td>(28, 34]</td>\n",
       "      <td>32</td>\n",
       "      <td>12</td>\n",
       "      <td>18</td>\n",
       "      <td>254.0</td>\n",
       "      <td>0.070866</td>\n",
       "      <td>0.016101</td>\n",
       "    </tr>\n",
       "    <tr>\n",
       "      <th>4</th>\n",
       "      <td>F</td>\n",
       "      <td>(34, 40]</td>\n",
       "      <td>8</td>\n",
       "      <td>2</td>\n",
       "      <td>3</td>\n",
       "      <td>59.0</td>\n",
       "      <td>0.050847</td>\n",
       "      <td>0.028601</td>\n",
       "    </tr>\n",
       "    <tr>\n",
       "      <th>5</th>\n",
       "      <td>M</td>\n",
       "      <td>(10, 16]</td>\n",
       "      <td>4</td>\n",
       "      <td>0</td>\n",
       "      <td>9</td>\n",
       "      <td>63.0</td>\n",
       "      <td>0.142857</td>\n",
       "      <td>0.044087</td>\n",
       "    </tr>\n",
       "    <tr>\n",
       "      <th>6</th>\n",
       "      <td>M</td>\n",
       "      <td>(16, 22]</td>\n",
       "      <td>53</td>\n",
       "      <td>12</td>\n",
       "      <td>53</td>\n",
       "      <td>484.0</td>\n",
       "      <td>0.109504</td>\n",
       "      <td>0.014194</td>\n",
       "    </tr>\n",
       "    <tr>\n",
       "      <th>7</th>\n",
       "      <td>M</td>\n",
       "      <td>(22, 28]</td>\n",
       "      <td>98</td>\n",
       "      <td>25</td>\n",
       "      <td>106</td>\n",
       "      <td>858.0</td>\n",
       "      <td>0.123543</td>\n",
       "      <td>0.011234</td>\n",
       "    </tr>\n",
       "  </tbody>\n",
       "</table>\n",
       "</div>"
      ],
      "text/plain": [
       "  sex       BMI  admitted  intrusive_ventilation  died  counter  prob_died  \\\n",
       "0   F  (10, 16]        17                      4     7     93.0   0.075269   \n",
       "1   F  (16, 22]        32                     12    20    298.0   0.067114   \n",
       "2   F  (22, 28]        47                     11    39    448.0   0.087054   \n",
       "3   F  (28, 34]        32                     12    18    254.0   0.070866   \n",
       "4   F  (34, 40]         8                      2     3     59.0   0.050847   \n",
       "5   M  (10, 16]         4                      0     9     63.0   0.142857   \n",
       "6   M  (16, 22]        53                     12    53    484.0   0.109504   \n",
       "7   M  (22, 28]        98                     25   106    858.0   0.123543   \n",
       "\n",
       "   prob_died_std  \n",
       "0       0.027357  \n",
       "1       0.014495  \n",
       "2       0.013319  \n",
       "3       0.016101  \n",
       "4       0.028601  \n",
       "5       0.044087  \n",
       "6       0.014194  \n",
       "7       0.011234  "
      ]
     },
     "execution_count": 15,
     "metadata": {},
     "output_type": "execute_result"
    }
   ],
   "source": [
    "df_newplot = df_cleaned.copy(deep=True)\n",
    "df_newplot = df_newplot[(df_newplot.age > 70) & (df_newplot.age < 80)]\n",
    "df_newplot[\"counter\"] = 1.0\n",
    "# now we want to put the data in bins of BMI and sex, and sum the numbers of\n",
    "# patients (total, admitted, ventilated, died) over these bins\n",
    "bins = np.arange(10,45,6)\n",
    "df_newplot = df_newplot.groupby([\"sex\",pd.cut(df_newplot[\"BMI\"], bins)]).sum()\n",
    "# calculate probability that patient died by dividing num(died) by the total in each bin\n",
    "df_newplot[\"prob_died\"] = df_newplot[\"died\"]/df_newplot[\"counter\"] \n",
    "df_newplot[\"prob_died_std\"] = np.sqrt(df_newplot[\"prob_died\"]*(1-df_newplot[\"prob_died\"])/df_newplot[\"counter\"])\n",
    "df_newplot = df_newplot.drop([\"BMI\",\"Unnamed: 0\",\"age\",\"height\",\"weight\"], axis=1)\n",
    "df_newplot = df_newplot.reset_index()\n",
    "# convert this new \"BMI\" column to a string\n",
    "df_newplot[\"BMI\"] = df_newplot[\"BMI\"].astype(str)\n",
    "df_newplot.head(8)"
   ]
  },
  {
   "cell_type": "code",
   "execution_count": 16,
   "metadata": {},
   "outputs": [
    {
     "data": {
      "text/plain": [
       "<AxesSubplot:xlabel='BMI', ylabel='prob_died'>"
      ]
     },
     "execution_count": 16,
     "metadata": {},
     "output_type": "execute_result"
    },
    {
     "data": {
      "image/png": "[encoded data removed]",
      "text/plain": [
       "<Figure size 432x288 with 1 Axes>"
      ]
     },
     "metadata": {
      "filenames": {
       "image/png": "/Users/cburr/OneDrive - The Alan Turing Institute/projects/turing-commons/online-training/guidebooks/_build/jupyter_execute/rri/chapter4/project_design/data_analysis_34_1.png"
      },
      "needs_background": "light"
     },
     "output_type": "display_data"
    }
   ],
   "source": [
    "sns.pointplot(data=df_newplot, x=\"BMI\", y=\"prob_died\", hue=\"sex\")"
   ]
  },
  {
   "cell_type": "markdown",
   "metadata": {},
   "source": [
    "Well, we can clearly see that there is a difference between men and women, with men having a higher probability of death right across the BMI range.\n",
    "\n",
    "But the dependence on BMI doesn't look like we might expect - why is this?   Well, it would take a detailed analysis to find out for sure, but one plausible hypothesis is that BMI is negatively correlated with age.  (In fact if we look at the [code used to generate this synthetic dataset](Synthetic_data_generation.ipynb) we can see that this is indeed the case - average BMI peaks at age 60 and decreases linearly with age after that).  Even though we only took a limited age-range, the variation within this 10-year slice is still big enough that it is the dominant factor in determining the shape of this plot.\n",
    "\n",
    "This is just one example of the pitfalls of trying to ascertain relationships between outcomes and variables - it's not easy! "
   ]
  },
  {
   "cell_type": "markdown",
   "metadata": {},
   "source": [
    "## Missing data\n",
    "\n",
    "As well as isolated rows with missing or incorrectly entered data, it is possible that there are entire categories that are under-represented in our dataset, as an artifact of the data collection procedure.   For example, perhaps we are missing some of the older patients in our dataset, as they may have been too frail to even present at the hospital.\n",
    "We are in the fortunate situation here of using synthetic data, so we can see the effect of this by adding back in some rows that were artificially removed in the dataset we have used up to now:"
   ]
  },
  {
   "cell_type": "code",
   "execution_count": 17,
   "metadata": {},
   "outputs": [
    {
     "data": {
      "text/plain": [
       "(30000, 12)"
      ]
     },
     "execution_count": 17,
     "metadata": {},
     "output_type": "execute_result"
    }
   ],
   "source": [
    "df_all = pd.read_csv(\"covid_patients_syn_data_unbiased.csv\")\n",
    "df_all.shape"
   ]
  },
  {
   "cell_type": "markdown",
   "metadata": {},
   "source": [
    "To see how the data was affected, we can compare the histograms of ages of patients, and patients that died, between our dataset and the dataset with the missing rows restored."
   ]
  },
  {
   "cell_type": "code",
   "execution_count": 18,
   "metadata": {},
   "outputs": [
    {
     "data": {
      "image/png": "[encoded data removed]",
      "text/plain": [
       "<Figure size 1080x432 with 2 Axes>"
      ]
     },
     "metadata": {
      "filenames": {
       "image/png": "/Users/cburr/OneDrive - The Alan Turing Institute/projects/turing-commons/online-training/guidebooks/_build/jupyter_execute/rri/chapter4/project_design/data_analysis_39_0.png"
      },
      "needs_background": "light"
     },
     "output_type": "display_data"
    }
   ],
   "source": [
    "fig, axes = plt.subplots(1,2, figsize=(15,6))\n",
    "ages_orig = list(df_cleaned[\"age\"])\n",
    "ages_all = list(df_all[\"age\"])\n",
    "ages_died_orig = list(df_cleaned[df_cleaned[\"died\"]==True][\"age\"])\n",
    "ages_died_all = list(df_all[df_all[\"died\"]==True][\"age\"])\n",
    "\n",
    "axes[0].hist(ages_all,bins=10,range=(0,100), alpha=0.5, label=\"unbiased dataset\")\n",
    "axes[0].hist(ages_orig,bins=10,range=(0,100), alpha=0.5, label=\"our dataset\")\n",
    "axes[0].set_xlabel(\"Age of patient\")\n",
    "axes[0].set_ylabel(\"Number of cases\")\n",
    "leg = axes[0].legend()\n",
    "\n",
    "axes[1].hist(ages_died_all,bins=10,range=(0,100), alpha=0.5, label=\"unbiased dataset\")\n",
    "axes[1].hist(ages_died_orig,bins=10,range=(0,100), alpha=0.5, label=\"our dataset\")\n",
    "axes[1].set_xlabel(\"Age of patient\")\n",
    "axes[1].set_ylabel(\"Number of deaths\")\n",
    "leg = axes[1].legend()"
   ]
  },
  {
   "cell_type": "code",
   "execution_count": null,
   "metadata": {},
   "outputs": [],
   "source": []
  }
 ],
 "metadata": {
  "interpreter": {
   "hash": "916dbcbb3f70747c44a77c7bcd40155683ae19c65e1c03b4aa3499c5328201f1"
  },
  "kernelspec": {
   "display_name": "Python 3",
   "language": "python",
   "name": "python3"
  },
  "language_info": {
   "codemirror_mode": {
    "name": "ipython",
    "version": 3
   },
   "file_extension": ".py",
   "mimetype": "text/x-python",
   "name": "python",
   "nbconvert_exporter": "python",
   "pygments_lexer": "ipython3",
   "version": "3.9.6"
  }
 },
 "nbformat": 4,
 "nbformat_minor": 2
}